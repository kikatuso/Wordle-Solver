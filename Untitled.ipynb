{
 "cells": [
  {
   "cell_type": "code",
   "execution_count": 86,
   "id": "looking-relations",
   "metadata": {},
   "outputs": [],
   "source": [
    "from main import *\n",
    "from tqdm import tqdm\n",
    "import pandas as pd \n",
    "import plotly.express as px\n",
    "import matplotlib.pyplot as plt \n"
   ]
  },
  {
   "cell_type": "code",
   "execution_count": 87,
   "id": "regulated-maine",
   "metadata": {},
   "outputs": [],
   "source": [
    "lexicon = pd.read_csv('initial_prob.csv')"
   ]
  },
  {
   "cell_type": "code",
   "execution_count": 88,
   "id": "spoken-muscle",
   "metadata": {},
   "outputs": [
    {
     "data": {
      "application/vnd.plotly.v1+json": {
       "config": {
        "plotlyServerURL": "https://plot.ly"
       },
       "data": [
        {
         "alignmentgroup": "True",
         "hovertemplate": "word=%{x}<br>entropy=%{marker.color}<extra></extra>",
         "legendgroup": "",
         "marker": {
          "color": [
           5.878302956493168,
           5.563910699552495,
           5.46947654480834,
           5.396170711055796,
           5.34551405140674,
           5.297076918920412,
           5.254980120240421,
           5.213255940317432,
           5.1754921372997975,
           5.149158727064335,
           5.119116686446434,
           5.091232616845892,
           5.0649379940883446,
           5.036706013394589,
           5.0130255736507285,
           4.974500988793241,
           4.953132290006275,
           4.92664135191875,
           4.903520269797744,
           4.884057709942018,
           4.860277613842719,
           4.837188076964274,
           4.810076049156926,
           4.788736972087038,
           4.764743543939579,
           4.740475040154574,
           4.716733894921997,
           4.686028921400575,
           4.65992461802773,
           4.63508884935589,
           4.6045750203692695,
           4.582365806351179,
           4.553112873927256,
           4.525864394411801,
           4.4969075548322,
           4.46391272207511,
           4.4331350199441255,
           4.398193304249126,
           4.359296212017782,
           4.329598887808231,
           4.298310191841889,
           4.259592019841377,
           4.213209609734286,
           4.175853879352771,
           4.110679874773146,
           4.042854098582757,
           3.9758504165527575,
           3.860914573169015,
           3.6962471371457424,
           2.393748063368617
          ],
          "coloraxis": "coloraxis",
          "pattern": {
           "shape": ""
          }
         },
         "name": "",
         "offsetgroup": "",
         "orientation": "v",
         "showlegend": false,
         "textposition": "auto",
         "type": "bar",
         "x": [
          "raise",
          "scale",
          "plane",
          "lathe",
          "tract",
          "ramen",
          "brine",
          "eager",
          "tacit",
          "brute",
          "dread",
          "cheer",
          "stint",
          "pecan",
          "ashen",
          "whale",
          "rebut",
          "aloft",
          "berth",
          "audit",
          "under",
          "round",
          "debit",
          "niche",
          "mourn",
          "whose",
          "plume",
          "elfin",
          "girly",
          "locus",
          "welsh",
          "ferry",
          "bused",
          "krill",
          "above",
          "tweak",
          "scamp",
          "minus",
          "blush",
          "visit",
          "would",
          "apply",
          "outgo",
          "dough",
          "dying",
          "fugue",
          "fishy",
          "whisk",
          "maxim",
          "fuzzy"
         ],
         "xaxis": "x",
         "y": [
          5.878302956493168,
          5.563910699552495,
          5.46947654480834,
          5.396170711055796,
          5.34551405140674,
          5.297076918920412,
          5.254980120240421,
          5.213255940317432,
          5.1754921372997975,
          5.149158727064335,
          5.119116686446434,
          5.091232616845892,
          5.0649379940883446,
          5.036706013394589,
          5.0130255736507285,
          4.974500988793241,
          4.953132290006275,
          4.92664135191875,
          4.903520269797744,
          4.884057709942018,
          4.860277613842719,
          4.837188076964274,
          4.810076049156926,
          4.788736972087038,
          4.764743543939579,
          4.740475040154574,
          4.716733894921997,
          4.686028921400575,
          4.65992461802773,
          4.63508884935589,
          4.6045750203692695,
          4.582365806351179,
          4.553112873927256,
          4.525864394411801,
          4.4969075548322,
          4.46391272207511,
          4.4331350199441255,
          4.398193304249126,
          4.359296212017782,
          4.329598887808231,
          4.298310191841889,
          4.259592019841377,
          4.213209609734286,
          4.175853879352771,
          4.110679874773146,
          4.042854098582757,
          3.9758504165527575,
          3.860914573169015,
          3.6962471371457424,
          2.393748063368617
         ],
         "yaxis": "y"
        }
       ],
       "layout": {
        "barmode": "relative",
        "coloraxis": {
         "cmax": 5.878302956493168,
         "cmin": 2.393748063368617,
         "colorbar": {
          "title": {
           "text": "entropy"
          }
         },
         "colorscale": [
          [
           0,
           "rgb(0,0,255)"
          ],
          [
           1,
           "rgb(255,0,0)"
          ]
         ]
        },
        "legend": {
         "tracegroupgap": 0
        },
        "margin": {
         "t": 60
        },
        "template": {
         "data": {
          "bar": [
           {
            "error_x": {
             "color": "#2a3f5f"
            },
            "error_y": {
             "color": "#2a3f5f"
            },
            "marker": {
             "line": {
              "color": "#E5ECF6",
              "width": 0.5
             },
             "pattern": {
              "fillmode": "overlay",
              "size": 10,
              "solidity": 0.2
             }
            },
            "type": "bar"
           }
          ],
          "barpolar": [
           {
            "marker": {
             "line": {
              "color": "#E5ECF6",
              "width": 0.5
             },
             "pattern": {
              "fillmode": "overlay",
              "size": 10,
              "solidity": 0.2
             }
            },
            "type": "barpolar"
           }
          ],
          "carpet": [
           {
            "aaxis": {
             "endlinecolor": "#2a3f5f",
             "gridcolor": "white",
             "linecolor": "white",
             "minorgridcolor": "white",
             "startlinecolor": "#2a3f5f"
            },
            "baxis": {
             "endlinecolor": "#2a3f5f",
             "gridcolor": "white",
             "linecolor": "white",
             "minorgridcolor": "white",
             "startlinecolor": "#2a3f5f"
            },
            "type": "carpet"
           }
          ],
          "choropleth": [
           {
            "colorbar": {
             "outlinewidth": 0,
             "ticks": ""
            },
            "type": "choropleth"
           }
          ],
          "contour": [
           {
            "colorbar": {
             "outlinewidth": 0,
             "ticks": ""
            },
            "colorscale": [
             [
              0,
              "#0d0887"
             ],
             [
              0.1111111111111111,
              "#46039f"
             ],
             [
              0.2222222222222222,
              "#7201a8"
             ],
             [
              0.3333333333333333,
              "#9c179e"
             ],
             [
              0.4444444444444444,
              "#bd3786"
             ],
             [
              0.5555555555555556,
              "#d8576b"
             ],
             [
              0.6666666666666666,
              "#ed7953"
             ],
             [
              0.7777777777777778,
              "#fb9f3a"
             ],
             [
              0.8888888888888888,
              "#fdca26"
             ],
             [
              1,
              "#f0f921"
             ]
            ],
            "type": "contour"
           }
          ],
          "contourcarpet": [
           {
            "colorbar": {
             "outlinewidth": 0,
             "ticks": ""
            },
            "type": "contourcarpet"
           }
          ],
          "heatmap": [
           {
            "colorbar": {
             "outlinewidth": 0,
             "ticks": ""
            },
            "colorscale": [
             [
              0,
              "#0d0887"
             ],
             [
              0.1111111111111111,
              "#46039f"
             ],
             [
              0.2222222222222222,
              "#7201a8"
             ],
             [
              0.3333333333333333,
              "#9c179e"
             ],
             [
              0.4444444444444444,
              "#bd3786"
             ],
             [
              0.5555555555555556,
              "#d8576b"
             ],
             [
              0.6666666666666666,
              "#ed7953"
             ],
             [
              0.7777777777777778,
              "#fb9f3a"
             ],
             [
              0.8888888888888888,
              "#fdca26"
             ],
             [
              1,
              "#f0f921"
             ]
            ],
            "type": "heatmap"
           }
          ],
          "heatmapgl": [
           {
            "colorbar": {
             "outlinewidth": 0,
             "ticks": ""
            },
            "colorscale": [
             [
              0,
              "#0d0887"
             ],
             [
              0.1111111111111111,
              "#46039f"
             ],
             [
              0.2222222222222222,
              "#7201a8"
             ],
             [
              0.3333333333333333,
              "#9c179e"
             ],
             [
              0.4444444444444444,
              "#bd3786"
             ],
             [
              0.5555555555555556,
              "#d8576b"
             ],
             [
              0.6666666666666666,
              "#ed7953"
             ],
             [
              0.7777777777777778,
              "#fb9f3a"
             ],
             [
              0.8888888888888888,
              "#fdca26"
             ],
             [
              1,
              "#f0f921"
             ]
            ],
            "type": "heatmapgl"
           }
          ],
          "histogram": [
           {
            "marker": {
             "pattern": {
              "fillmode": "overlay",
              "size": 10,
              "solidity": 0.2
             }
            },
            "type": "histogram"
           }
          ],
          "histogram2d": [
           {
            "colorbar": {
             "outlinewidth": 0,
             "ticks": ""
            },
            "colorscale": [
             [
              0,
              "#0d0887"
             ],
             [
              0.1111111111111111,
              "#46039f"
             ],
             [
              0.2222222222222222,
              "#7201a8"
             ],
             [
              0.3333333333333333,
              "#9c179e"
             ],
             [
              0.4444444444444444,
              "#bd3786"
             ],
             [
              0.5555555555555556,
              "#d8576b"
             ],
             [
              0.6666666666666666,
              "#ed7953"
             ],
             [
              0.7777777777777778,
              "#fb9f3a"
             ],
             [
              0.8888888888888888,
              "#fdca26"
             ],
             [
              1,
              "#f0f921"
             ]
            ],
            "type": "histogram2d"
           }
          ],
          "histogram2dcontour": [
           {
            "colorbar": {
             "outlinewidth": 0,
             "ticks": ""
            },
            "colorscale": [
             [
              0,
              "#0d0887"
             ],
             [
              0.1111111111111111,
              "#46039f"
             ],
             [
              0.2222222222222222,
              "#7201a8"
             ],
             [
              0.3333333333333333,
              "#9c179e"
             ],
             [
              0.4444444444444444,
              "#bd3786"
             ],
             [
              0.5555555555555556,
              "#d8576b"
             ],
             [
              0.6666666666666666,
              "#ed7953"
             ],
             [
              0.7777777777777778,
              "#fb9f3a"
             ],
             [
              0.8888888888888888,
              "#fdca26"
             ],
             [
              1,
              "#f0f921"
             ]
            ],
            "type": "histogram2dcontour"
           }
          ],
          "mesh3d": [
           {
            "colorbar": {
             "outlinewidth": 0,
             "ticks": ""
            },
            "type": "mesh3d"
           }
          ],
          "parcoords": [
           {
            "line": {
             "colorbar": {
              "outlinewidth": 0,
              "ticks": ""
             }
            },
            "type": "parcoords"
           }
          ],
          "pie": [
           {
            "automargin": true,
            "type": "pie"
           }
          ],
          "scatter": [
           {
            "fillpattern": {
             "fillmode": "overlay",
             "size": 10,
             "solidity": 0.2
            },
            "type": "scatter"
           }
          ],
          "scatter3d": [
           {
            "line": {
             "colorbar": {
              "outlinewidth": 0,
              "ticks": ""
             }
            },
            "marker": {
             "colorbar": {
              "outlinewidth": 0,
              "ticks": ""
             }
            },
            "type": "scatter3d"
           }
          ],
          "scattercarpet": [
           {
            "marker": {
             "colorbar": {
              "outlinewidth": 0,
              "ticks": ""
             }
            },
            "type": "scattercarpet"
           }
          ],
          "scattergeo": [
           {
            "marker": {
             "colorbar": {
              "outlinewidth": 0,
              "ticks": ""
             }
            },
            "type": "scattergeo"
           }
          ],
          "scattergl": [
           {
            "marker": {
             "colorbar": {
              "outlinewidth": 0,
              "ticks": ""
             }
            },
            "type": "scattergl"
           }
          ],
          "scattermapbox": [
           {
            "marker": {
             "colorbar": {
              "outlinewidth": 0,
              "ticks": ""
             }
            },
            "type": "scattermapbox"
           }
          ],
          "scatterpolar": [
           {
            "marker": {
             "colorbar": {
              "outlinewidth": 0,
              "ticks": ""
             }
            },
            "type": "scatterpolar"
           }
          ],
          "scatterpolargl": [
           {
            "marker": {
             "colorbar": {
              "outlinewidth": 0,
              "ticks": ""
             }
            },
            "type": "scatterpolargl"
           }
          ],
          "scatterternary": [
           {
            "marker": {
             "colorbar": {
              "outlinewidth": 0,
              "ticks": ""
             }
            },
            "type": "scatterternary"
           }
          ],
          "surface": [
           {
            "colorbar": {
             "outlinewidth": 0,
             "ticks": ""
            },
            "colorscale": [
             [
              0,
              "#0d0887"
             ],
             [
              0.1111111111111111,
              "#46039f"
             ],
             [
              0.2222222222222222,
              "#7201a8"
             ],
             [
              0.3333333333333333,
              "#9c179e"
             ],
             [
              0.4444444444444444,
              "#bd3786"
             ],
             [
              0.5555555555555556,
              "#d8576b"
             ],
             [
              0.6666666666666666,
              "#ed7953"
             ],
             [
              0.7777777777777778,
              "#fb9f3a"
             ],
             [
              0.8888888888888888,
              "#fdca26"
             ],
             [
              1,
              "#f0f921"
             ]
            ],
            "type": "surface"
           }
          ],
          "table": [
           {
            "cells": {
             "fill": {
              "color": "#EBF0F8"
             },
             "line": {
              "color": "white"
             }
            },
            "header": {
             "fill": {
              "color": "#C8D4E3"
             },
             "line": {
              "color": "white"
             }
            },
            "type": "table"
           }
          ]
         },
         "layout": {
          "annotationdefaults": {
           "arrowcolor": "#2a3f5f",
           "arrowhead": 0,
           "arrowwidth": 1
          },
          "autotypenumbers": "strict",
          "coloraxis": {
           "colorbar": {
            "outlinewidth": 0,
            "ticks": ""
           }
          },
          "colorscale": {
           "diverging": [
            [
             0,
             "#8e0152"
            ],
            [
             0.1,
             "#c51b7d"
            ],
            [
             0.2,
             "#de77ae"
            ],
            [
             0.3,
             "#f1b6da"
            ],
            [
             0.4,
             "#fde0ef"
            ],
            [
             0.5,
             "#f7f7f7"
            ],
            [
             0.6,
             "#e6f5d0"
            ],
            [
             0.7,
             "#b8e186"
            ],
            [
             0.8,
             "#7fbc41"
            ],
            [
             0.9,
             "#4d9221"
            ],
            [
             1,
             "#276419"
            ]
           ],
           "sequential": [
            [
             0,
             "#0d0887"
            ],
            [
             0.1111111111111111,
             "#46039f"
            ],
            [
             0.2222222222222222,
             "#7201a8"
            ],
            [
             0.3333333333333333,
             "#9c179e"
            ],
            [
             0.4444444444444444,
             "#bd3786"
            ],
            [
             0.5555555555555556,
             "#d8576b"
            ],
            [
             0.6666666666666666,
             "#ed7953"
            ],
            [
             0.7777777777777778,
             "#fb9f3a"
            ],
            [
             0.8888888888888888,
             "#fdca26"
            ],
            [
             1,
             "#f0f921"
            ]
           ],
           "sequentialminus": [
            [
             0,
             "#0d0887"
            ],
            [
             0.1111111111111111,
             "#46039f"
            ],
            [
             0.2222222222222222,
             "#7201a8"
            ],
            [
             0.3333333333333333,
             "#9c179e"
            ],
            [
             0.4444444444444444,
             "#bd3786"
            ],
            [
             0.5555555555555556,
             "#d8576b"
            ],
            [
             0.6666666666666666,
             "#ed7953"
            ],
            [
             0.7777777777777778,
             "#fb9f3a"
            ],
            [
             0.8888888888888888,
             "#fdca26"
            ],
            [
             1,
             "#f0f921"
            ]
           ]
          },
          "colorway": [
           "#636efa",
           "#EF553B",
           "#00cc96",
           "#ab63fa",
           "#FFA15A",
           "#19d3f3",
           "#FF6692",
           "#B6E880",
           "#FF97FF",
           "#FECB52"
          ],
          "font": {
           "color": "#2a3f5f"
          },
          "geo": {
           "bgcolor": "white",
           "lakecolor": "white",
           "landcolor": "#E5ECF6",
           "showlakes": true,
           "showland": true,
           "subunitcolor": "white"
          },
          "hoverlabel": {
           "align": "left"
          },
          "hovermode": "closest",
          "mapbox": {
           "style": "light"
          },
          "paper_bgcolor": "white",
          "plot_bgcolor": "#E5ECF6",
          "polar": {
           "angularaxis": {
            "gridcolor": "white",
            "linecolor": "white",
            "ticks": ""
           },
           "bgcolor": "#E5ECF6",
           "radialaxis": {
            "gridcolor": "white",
            "linecolor": "white",
            "ticks": ""
           }
          },
          "scene": {
           "xaxis": {
            "backgroundcolor": "#E5ECF6",
            "gridcolor": "white",
            "gridwidth": 2,
            "linecolor": "white",
            "showbackground": true,
            "ticks": "",
            "zerolinecolor": "white"
           },
           "yaxis": {
            "backgroundcolor": "#E5ECF6",
            "gridcolor": "white",
            "gridwidth": 2,
            "linecolor": "white",
            "showbackground": true,
            "ticks": "",
            "zerolinecolor": "white"
           },
           "zaxis": {
            "backgroundcolor": "#E5ECF6",
            "gridcolor": "white",
            "gridwidth": 2,
            "linecolor": "white",
            "showbackground": true,
            "ticks": "",
            "zerolinecolor": "white"
           }
          },
          "shapedefaults": {
           "line": {
            "color": "#2a3f5f"
           }
          },
          "ternary": {
           "aaxis": {
            "gridcolor": "white",
            "linecolor": "white",
            "ticks": ""
           },
           "baxis": {
            "gridcolor": "white",
            "linecolor": "white",
            "ticks": ""
           },
           "bgcolor": "#E5ECF6",
           "caxis": {
            "gridcolor": "white",
            "linecolor": "white",
            "ticks": ""
           }
          },
          "title": {
           "x": 0.05
          },
          "xaxis": {
           "automargin": true,
           "gridcolor": "white",
           "linecolor": "white",
           "ticks": "",
           "title": {
            "standoff": 15
           },
           "zerolinecolor": "white",
           "zerolinewidth": 2
          },
          "yaxis": {
           "automargin": true,
           "gridcolor": "white",
           "linecolor": "white",
           "ticks": "",
           "title": {
            "standoff": 15
           },
           "zerolinecolor": "white",
           "zerolinewidth": 2
          }
         }
        },
        "xaxis": {
         "anchor": "y",
         "domain": [
          0,
          1
         ],
         "title": {
          "text": "word"
         }
        },
        "yaxis": {
         "anchor": "x",
         "domain": [
          0,
          1
         ],
         "title": {
          "text": "entropy"
         }
        }
       }
      },
      "text/html": [
       "<div>                            <div id=\"606dcf63-2dc3-4a7c-82f8-f9674508f263\" class=\"plotly-graph-div\" style=\"height:525px; width:100%;\"></div>            <script type=\"text/javascript\">                require([\"plotly\"], function(Plotly) {                    window.PLOTLYENV=window.PLOTLYENV || {};                                    if (document.getElementById(\"606dcf63-2dc3-4a7c-82f8-f9674508f263\")) {                    Plotly.newPlot(                        \"606dcf63-2dc3-4a7c-82f8-f9674508f263\",                        [{\"alignmentgroup\":\"True\",\"hovertemplate\":\"word=%{x}<br>entropy=%{marker.color}<extra></extra>\",\"legendgroup\":\"\",\"marker\":{\"color\":[5.878302956493168,5.563910699552495,5.46947654480834,5.396170711055796,5.34551405140674,5.297076918920412,5.254980120240421,5.213255940317432,5.1754921372997975,5.149158727064335,5.119116686446434,5.091232616845892,5.0649379940883446,5.036706013394589,5.0130255736507285,4.974500988793241,4.953132290006275,4.92664135191875,4.903520269797744,4.884057709942018,4.860277613842719,4.837188076964274,4.810076049156926,4.788736972087038,4.764743543939579,4.740475040154574,4.716733894921997,4.686028921400575,4.65992461802773,4.63508884935589,4.6045750203692695,4.582365806351179,4.553112873927256,4.525864394411801,4.4969075548322,4.46391272207511,4.4331350199441255,4.398193304249126,4.359296212017782,4.329598887808231,4.298310191841889,4.259592019841377,4.213209609734286,4.175853879352771,4.110679874773146,4.042854098582757,3.9758504165527575,3.860914573169015,3.6962471371457424,2.393748063368617],\"coloraxis\":\"coloraxis\",\"pattern\":{\"shape\":\"\"}},\"name\":\"\",\"offsetgroup\":\"\",\"orientation\":\"v\",\"showlegend\":false,\"textposition\":\"auto\",\"x\":[\"raise\",\"scale\",\"plane\",\"lathe\",\"tract\",\"ramen\",\"brine\",\"eager\",\"tacit\",\"brute\",\"dread\",\"cheer\",\"stint\",\"pecan\",\"ashen\",\"whale\",\"rebut\",\"aloft\",\"berth\",\"audit\",\"under\",\"round\",\"debit\",\"niche\",\"mourn\",\"whose\",\"plume\",\"elfin\",\"girly\",\"locus\",\"welsh\",\"ferry\",\"bused\",\"krill\",\"above\",\"tweak\",\"scamp\",\"minus\",\"blush\",\"visit\",\"would\",\"apply\",\"outgo\",\"dough\",\"dying\",\"fugue\",\"fishy\",\"whisk\",\"maxim\",\"fuzzy\"],\"xaxis\":\"x\",\"y\":[5.878302956493168,5.563910699552495,5.46947654480834,5.396170711055796,5.34551405140674,5.297076918920412,5.254980120240421,5.213255940317432,5.1754921372997975,5.149158727064335,5.119116686446434,5.091232616845892,5.0649379940883446,5.036706013394589,5.0130255736507285,4.974500988793241,4.953132290006275,4.92664135191875,4.903520269797744,4.884057709942018,4.860277613842719,4.837188076964274,4.810076049156926,4.788736972087038,4.764743543939579,4.740475040154574,4.716733894921997,4.686028921400575,4.65992461802773,4.63508884935589,4.6045750203692695,4.582365806351179,4.553112873927256,4.525864394411801,4.4969075548322,4.46391272207511,4.4331350199441255,4.398193304249126,4.359296212017782,4.329598887808231,4.298310191841889,4.259592019841377,4.213209609734286,4.175853879352771,4.110679874773146,4.042854098582757,3.9758504165527575,3.860914573169015,3.6962471371457424,2.393748063368617],\"yaxis\":\"y\",\"type\":\"bar\"}],                        {\"template\":{\"data\":{\"histogram2dcontour\":[{\"type\":\"histogram2dcontour\",\"colorbar\":{\"outlinewidth\":0,\"ticks\":\"\"},\"colorscale\":[[0.0,\"#0d0887\"],[0.1111111111111111,\"#46039f\"],[0.2222222222222222,\"#7201a8\"],[0.3333333333333333,\"#9c179e\"],[0.4444444444444444,\"#bd3786\"],[0.5555555555555556,\"#d8576b\"],[0.6666666666666666,\"#ed7953\"],[0.7777777777777778,\"#fb9f3a\"],[0.8888888888888888,\"#fdca26\"],[1.0,\"#f0f921\"]]}],\"choropleth\":[{\"type\":\"choropleth\",\"colorbar\":{\"outlinewidth\":0,\"ticks\":\"\"}}],\"histogram2d\":[{\"type\":\"histogram2d\",\"colorbar\":{\"outlinewidth\":0,\"ticks\":\"\"},\"colorscale\":[[0.0,\"#0d0887\"],[0.1111111111111111,\"#46039f\"],[0.2222222222222222,\"#7201a8\"],[0.3333333333333333,\"#9c179e\"],[0.4444444444444444,\"#bd3786\"],[0.5555555555555556,\"#d8576b\"],[0.6666666666666666,\"#ed7953\"],[0.7777777777777778,\"#fb9f3a\"],[0.8888888888888888,\"#fdca26\"],[1.0,\"#f0f921\"]]}],\"heatmap\":[{\"type\":\"heatmap\",\"colorbar\":{\"outlinewidth\":0,\"ticks\":\"\"},\"colorscale\":[[0.0,\"#0d0887\"],[0.1111111111111111,\"#46039f\"],[0.2222222222222222,\"#7201a8\"],[0.3333333333333333,\"#9c179e\"],[0.4444444444444444,\"#bd3786\"],[0.5555555555555556,\"#d8576b\"],[0.6666666666666666,\"#ed7953\"],[0.7777777777777778,\"#fb9f3a\"],[0.8888888888888888,\"#fdca26\"],[1.0,\"#f0f921\"]]}],\"heatmapgl\":[{\"type\":\"heatmapgl\",\"colorbar\":{\"outlinewidth\":0,\"ticks\":\"\"},\"colorscale\":[[0.0,\"#0d0887\"],[0.1111111111111111,\"#46039f\"],[0.2222222222222222,\"#7201a8\"],[0.3333333333333333,\"#9c179e\"],[0.4444444444444444,\"#bd3786\"],[0.5555555555555556,\"#d8576b\"],[0.6666666666666666,\"#ed7953\"],[0.7777777777777778,\"#fb9f3a\"],[0.8888888888888888,\"#fdca26\"],[1.0,\"#f0f921\"]]}],\"contourcarpet\":[{\"type\":\"contourcarpet\",\"colorbar\":{\"outlinewidth\":0,\"ticks\":\"\"}}],\"contour\":[{\"type\":\"contour\",\"colorbar\":{\"outlinewidth\":0,\"ticks\":\"\"},\"colorscale\":[[0.0,\"#0d0887\"],[0.1111111111111111,\"#46039f\"],[0.2222222222222222,\"#7201a8\"],[0.3333333333333333,\"#9c179e\"],[0.4444444444444444,\"#bd3786\"],[0.5555555555555556,\"#d8576b\"],[0.6666666666666666,\"#ed7953\"],[0.7777777777777778,\"#fb9f3a\"],[0.8888888888888888,\"#fdca26\"],[1.0,\"#f0f921\"]]}],\"surface\":[{\"type\":\"surface\",\"colorbar\":{\"outlinewidth\":0,\"ticks\":\"\"},\"colorscale\":[[0.0,\"#0d0887\"],[0.1111111111111111,\"#46039f\"],[0.2222222222222222,\"#7201a8\"],[0.3333333333333333,\"#9c179e\"],[0.4444444444444444,\"#bd3786\"],[0.5555555555555556,\"#d8576b\"],[0.6666666666666666,\"#ed7953\"],[0.7777777777777778,\"#fb9f3a\"],[0.8888888888888888,\"#fdca26\"],[1.0,\"#f0f921\"]]}],\"mesh3d\":[{\"type\":\"mesh3d\",\"colorbar\":{\"outlinewidth\":0,\"ticks\":\"\"}}],\"scatter\":[{\"fillpattern\":{\"fillmode\":\"overlay\",\"size\":10,\"solidity\":0.2},\"type\":\"scatter\"}],\"parcoords\":[{\"type\":\"parcoords\",\"line\":{\"colorbar\":{\"outlinewidth\":0,\"ticks\":\"\"}}}],\"scatterpolargl\":[{\"type\":\"scatterpolargl\",\"marker\":{\"colorbar\":{\"outlinewidth\":0,\"ticks\":\"\"}}}],\"bar\":[{\"error_x\":{\"color\":\"#2a3f5f\"},\"error_y\":{\"color\":\"#2a3f5f\"},\"marker\":{\"line\":{\"color\":\"#E5ECF6\",\"width\":0.5},\"pattern\":{\"fillmode\":\"overlay\",\"size\":10,\"solidity\":0.2}},\"type\":\"bar\"}],\"scattergeo\":[{\"type\":\"scattergeo\",\"marker\":{\"colorbar\":{\"outlinewidth\":0,\"ticks\":\"\"}}}],\"scatterpolar\":[{\"type\":\"scatterpolar\",\"marker\":{\"colorbar\":{\"outlinewidth\":0,\"ticks\":\"\"}}}],\"histogram\":[{\"marker\":{\"pattern\":{\"fillmode\":\"overlay\",\"size\":10,\"solidity\":0.2}},\"type\":\"histogram\"}],\"scattergl\":[{\"type\":\"scattergl\",\"marker\":{\"colorbar\":{\"outlinewidth\":0,\"ticks\":\"\"}}}],\"scatter3d\":[{\"type\":\"scatter3d\",\"line\":{\"colorbar\":{\"outlinewidth\":0,\"ticks\":\"\"}},\"marker\":{\"colorbar\":{\"outlinewidth\":0,\"ticks\":\"\"}}}],\"scattermapbox\":[{\"type\":\"scattermapbox\",\"marker\":{\"colorbar\":{\"outlinewidth\":0,\"ticks\":\"\"}}}],\"scatterternary\":[{\"type\":\"scatterternary\",\"marker\":{\"colorbar\":{\"outlinewidth\":0,\"ticks\":\"\"}}}],\"scattercarpet\":[{\"type\":\"scattercarpet\",\"marker\":{\"colorbar\":{\"outlinewidth\":0,\"ticks\":\"\"}}}],\"carpet\":[{\"aaxis\":{\"endlinecolor\":\"#2a3f5f\",\"gridcolor\":\"white\",\"linecolor\":\"white\",\"minorgridcolor\":\"white\",\"startlinecolor\":\"#2a3f5f\"},\"baxis\":{\"endlinecolor\":\"#2a3f5f\",\"gridcolor\":\"white\",\"linecolor\":\"white\",\"minorgridcolor\":\"white\",\"startlinecolor\":\"#2a3f5f\"},\"type\":\"carpet\"}],\"table\":[{\"cells\":{\"fill\":{\"color\":\"#EBF0F8\"},\"line\":{\"color\":\"white\"}},\"header\":{\"fill\":{\"color\":\"#C8D4E3\"},\"line\":{\"color\":\"white\"}},\"type\":\"table\"}],\"barpolar\":[{\"marker\":{\"line\":{\"color\":\"#E5ECF6\",\"width\":0.5},\"pattern\":{\"fillmode\":\"overlay\",\"size\":10,\"solidity\":0.2}},\"type\":\"barpolar\"}],\"pie\":[{\"automargin\":true,\"type\":\"pie\"}]},\"layout\":{\"autotypenumbers\":\"strict\",\"colorway\":[\"#636efa\",\"#EF553B\",\"#00cc96\",\"#ab63fa\",\"#FFA15A\",\"#19d3f3\",\"#FF6692\",\"#B6E880\",\"#FF97FF\",\"#FECB52\"],\"font\":{\"color\":\"#2a3f5f\"},\"hovermode\":\"closest\",\"hoverlabel\":{\"align\":\"left\"},\"paper_bgcolor\":\"white\",\"plot_bgcolor\":\"#E5ECF6\",\"polar\":{\"bgcolor\":\"#E5ECF6\",\"angularaxis\":{\"gridcolor\":\"white\",\"linecolor\":\"white\",\"ticks\":\"\"},\"radialaxis\":{\"gridcolor\":\"white\",\"linecolor\":\"white\",\"ticks\":\"\"}},\"ternary\":{\"bgcolor\":\"#E5ECF6\",\"aaxis\":{\"gridcolor\":\"white\",\"linecolor\":\"white\",\"ticks\":\"\"},\"baxis\":{\"gridcolor\":\"white\",\"linecolor\":\"white\",\"ticks\":\"\"},\"caxis\":{\"gridcolor\":\"white\",\"linecolor\":\"white\",\"ticks\":\"\"}},\"coloraxis\":{\"colorbar\":{\"outlinewidth\":0,\"ticks\":\"\"}},\"colorscale\":{\"sequential\":[[0.0,\"#0d0887\"],[0.1111111111111111,\"#46039f\"],[0.2222222222222222,\"#7201a8\"],[0.3333333333333333,\"#9c179e\"],[0.4444444444444444,\"#bd3786\"],[0.5555555555555556,\"#d8576b\"],[0.6666666666666666,\"#ed7953\"],[0.7777777777777778,\"#fb9f3a\"],[0.8888888888888888,\"#fdca26\"],[1.0,\"#f0f921\"]],\"sequentialminus\":[[0.0,\"#0d0887\"],[0.1111111111111111,\"#46039f\"],[0.2222222222222222,\"#7201a8\"],[0.3333333333333333,\"#9c179e\"],[0.4444444444444444,\"#bd3786\"],[0.5555555555555556,\"#d8576b\"],[0.6666666666666666,\"#ed7953\"],[0.7777777777777778,\"#fb9f3a\"],[0.8888888888888888,\"#fdca26\"],[1.0,\"#f0f921\"]],\"diverging\":[[0,\"#8e0152\"],[0.1,\"#c51b7d\"],[0.2,\"#de77ae\"],[0.3,\"#f1b6da\"],[0.4,\"#fde0ef\"],[0.5,\"#f7f7f7\"],[0.6,\"#e6f5d0\"],[0.7,\"#b8e186\"],[0.8,\"#7fbc41\"],[0.9,\"#4d9221\"],[1,\"#276419\"]]},\"xaxis\":{\"gridcolor\":\"white\",\"linecolor\":\"white\",\"ticks\":\"\",\"title\":{\"standoff\":15},\"zerolinecolor\":\"white\",\"automargin\":true,\"zerolinewidth\":2},\"yaxis\":{\"gridcolor\":\"white\",\"linecolor\":\"white\",\"ticks\":\"\",\"title\":{\"standoff\":15},\"zerolinecolor\":\"white\",\"automargin\":true,\"zerolinewidth\":2},\"scene\":{\"xaxis\":{\"backgroundcolor\":\"#E5ECF6\",\"gridcolor\":\"white\",\"linecolor\":\"white\",\"showbackground\":true,\"ticks\":\"\",\"zerolinecolor\":\"white\",\"gridwidth\":2},\"yaxis\":{\"backgroundcolor\":\"#E5ECF6\",\"gridcolor\":\"white\",\"linecolor\":\"white\",\"showbackground\":true,\"ticks\":\"\",\"zerolinecolor\":\"white\",\"gridwidth\":2},\"zaxis\":{\"backgroundcolor\":\"#E5ECF6\",\"gridcolor\":\"white\",\"linecolor\":\"white\",\"showbackground\":true,\"ticks\":\"\",\"zerolinecolor\":\"white\",\"gridwidth\":2}},\"shapedefaults\":{\"line\":{\"color\":\"#2a3f5f\"}},\"annotationdefaults\":{\"arrowcolor\":\"#2a3f5f\",\"arrowhead\":0,\"arrowwidth\":1},\"geo\":{\"bgcolor\":\"white\",\"landcolor\":\"#E5ECF6\",\"subunitcolor\":\"white\",\"showland\":true,\"showlakes\":true,\"lakecolor\":\"white\"},\"title\":{\"x\":0.05},\"mapbox\":{\"style\":\"light\"}}},\"xaxis\":{\"anchor\":\"y\",\"domain\":[0.0,1.0],\"title\":{\"text\":\"word\"}},\"yaxis\":{\"anchor\":\"x\",\"domain\":[0.0,1.0],\"title\":{\"text\":\"entropy\"}},\"coloraxis\":{\"colorbar\":{\"title\":{\"text\":\"entropy\"}},\"colorscale\":[[0.0,\"rgb(0,0,255)\"],[1.0,\"rgb(255,0,0)\"]],\"cmin\":2.393748063368617,\"cmax\":5.878302956493168},\"legend\":{\"tracegroupgap\":0},\"margin\":{\"t\":60},\"barmode\":\"relative\"},                        {\"responsive\": true}                    ).then(function(){\n",
       "                            \n",
       "var gd = document.getElementById('606dcf63-2dc3-4a7c-82f8-f9674508f263');\n",
       "var x = new MutationObserver(function (mutations, observer) {{\n",
       "        var display = window.getComputedStyle(gd).display;\n",
       "        if (!display || display === 'none') {{\n",
       "            console.log([gd, 'removed!']);\n",
       "            Plotly.purge(gd);\n",
       "            observer.disconnect();\n",
       "        }}\n",
       "}});\n",
       "\n",
       "// Listen for the removal of the full notebook cells\n",
       "var notebookContainer = gd.closest('#notebook-container');\n",
       "if (notebookContainer) {{\n",
       "    x.observe(notebookContainer, {childList: true});\n",
       "}}\n",
       "\n",
       "// Listen for the clearing of the current output cell\n",
       "var outputEl = gd.closest('.output');\n",
       "if (outputEl) {{\n",
       "    x.observe(outputEl, {childList: true});\n",
       "}}\n",
       "\n",
       "                        })                };                });            </script>        </div>"
      ]
     },
     "metadata": {},
     "output_type": "display_data"
    }
   ],
   "source": [
    "df = lexicon\n",
    "sample_size = min(50,df.shape[0])\n",
    "sample_idx = (np.linspace(0,df.shape[0]-1,sample_size)).astype(int)\n",
    "df_sample = df.iloc[sample_idx]\n",
    "maxVal,minVal = max(df_sample.entropy),min(df_sample.entropy)\n",
    "fig = px.bar(df_sample, x='word', y='entropy',color='entropy',color_continuous_scale='Bluered',range_color=[minVal,maxVal])\n",
    "fig.show()"
   ]
  },
  {
   "cell_type": "code",
   "execution_count": 4,
   "id": "aerial-badge",
   "metadata": {},
   "outputs": [
    {
     "data": {
      "image/png": "[encoded data removed]",
      "text/plain": [
       "<Figure size 432x288 with 1 Axes>"
      ]
     },
     "metadata": {
      "needs_background": "light"
     },
     "output_type": "display_data"
    }
   ],
   "source": [
    "plt.plot(df.entropy,color='red')\n",
    "x = np.array(df.entropy)\n"
   ]
  },
  {
   "cell_type": "code",
   "execution_count": 89,
   "id": "hundred-mortality",
   "metadata": {},
   "outputs": [],
   "source": [
    "def convert_to_prob(entropy,factor=10):\n",
    "    prob = np.zeros(len(entropy))\n",
    "    prob[np.argmax(entropy)]=1.0\n",
    "    #ent_factor = factor**entropy\n",
    "    #prob = ent_factor/sum(ent_factor)\n",
    "    return prob\n",
    "\n",
    "\n",
    "def compare_words(sel_word,target_word):\n",
    "    target_word_list = list(target_word)\n",
    "    sel_word_list = np.array(list(sel_word))\n",
    "    out = {}\n",
    "    green_mask = sel_word_list==target_word_list\n",
    "    target_word_list = list(np.array(target_word_list)[~green_mask])\n",
    "\n",
    "    yellow_mask = np.zeros([5],dtype=bool)\n",
    "    for idx_lt,letter in enumerate(sel_word_list):\n",
    "        if green_mask[idx_lt]:\n",
    "            yellow_mask[idx_lt]=False\n",
    "            continue\n",
    "        lt_bool = letter in target_word_list\n",
    "        yellow_mask[idx_lt]=lt_bool\n",
    "        if lt_bool:\n",
    "            target_word_list.remove(letter)\n",
    "\n",
    "    grey_mask = ~(yellow_mask.astype(int)+green_mask.astype(int)).astype(bool)\n",
    "    out['green_mask']=green_mask\n",
    "    out['yellow_mask']=yellow_mask\n",
    "    out['grey_mask']=grey_mask\n",
    "    out['green_letters'] = sel_word_list[green_mask.astype(bool)]\n",
    "    out['yellow_letters'] = sel_word_list[yellow_mask.astype(bool)]\n",
    "    out['grey_letters'] = sel_word_list[grey_mask.astype(bool)]\n",
    "    return out\n",
    "\n",
    "\n",
    "def play_auto_game(target_word,lexicon):\n",
    "    df = lexicon\n",
    "    turns = 0\n",
    "    game = True\n",
    "    while game:\n",
    "\n",
    "        words_dna_digitised = get_words_dna(df['word'])\n",
    "        df['p'] = convert_to_prob(df['entropy'],factor=30)\n",
    "\n",
    "        # guessing a word\n",
    "        sel_word = np.random.choice(df['word'],p=df['p'])\n",
    "        print('Chosen word: ',sel_word)\n",
    "    \n",
    "        # comparing words for a match\n",
    "        out = compare_words(sel_word,target_word)\n",
    "        green_mask = out['green_mask']\n",
    "        yellow_mask = out['yellow_mask']\n",
    "        grey_mask = out['grey_mask']\n",
    "\n",
    "        green_letters = out['green_letters']\n",
    "        yellow_letters = out['yellow_letters']\n",
    "        grey_letters = out['grey_letters']\n",
    "\n",
    "        # new lexicon after the move\n",
    "        red_list = get_red_list(green_mask,green_letters,yellow_mask,yellow_letters,\n",
    "                            grey_letters,words_dna_digitised,df.word).to_numpy()\n",
    "\n",
    "        # new entropy for the next move\n",
    "        df = get_entropy_list(red_list,progress_bar=False)\n",
    "        turns +=1\n",
    "\n",
    "        if all(green_mask):\n",
    "            outcome = True\n",
    "            break\n",
    "        if turns==6:\n",
    "            outcome = False\n",
    "            break\n",
    "\n",
    "    if outcome:\n",
    "        print('Game won in {} turns'.format(turns))\n",
    "    else:\n",
    "        print('Game lost.')\n",
    "        \n",
    "    return turns\n"
   ]
  },
  {
   "cell_type": "code",
   "execution_count": 90,
   "id": "focal-wells",
   "metadata": {},
   "outputs": [
    {
     "data": {
      "text/plain": [
       "'fifty'"
      ]
     },
     "execution_count": 90,
     "metadata": {},
     "output_type": "execute_result"
    }
   ],
   "source": [
    "target_word = np.random.choice(lexicon.word)\n",
    "target_word"
   ]
  },
  {
   "cell_type": "code",
   "execution_count": 92,
   "id": "heard-procurement",
   "metadata": {
    "scrolled": true
   },
   "outputs": [
    {
     "name": "stdout",
     "output_type": "stream",
     "text": [
      "Target word:  cramp\n",
      "Chosen word:  raise\n",
      "Chosen word:  adorn\n",
      "Chosen word:  tract\n",
      "Chosen word:  crawl\n",
      "Chosen word:  cramp\n",
      "Game won in 5 turns\n",
      "Target word:  undue\n",
      "Chosen word:  raise\n",
      "Chosen word:  lunge\n",
      "Chosen word:  undue\n",
      "Game won in 3 turns\n",
      "Target word:  suite\n",
      "Chosen word:  raise\n",
      "Chosen word:  spine\n",
      "Chosen word:  slime\n",
      "Chosen word:  suite\n",
      "Game won in 4 turns\n",
      "Target word:  druid\n",
      "Chosen word:  raise\n",
      "Chosen word:  droit\n",
      "Chosen word:  druid\n",
      "Game won in 3 turns\n",
      "Target word:  fauna\n",
      "Chosen word:  raise\n",
      "Chosen word:  tangy\n",
      "Chosen word:  naval\n",
      "Chosen word:  bacon\n",
      "Chosen word:  fauna\n",
      "Game won in 5 turns\n",
      "Target word:  hymen\n",
      "Chosen word:  raise\n",
      "Chosen word:  tenet\n",
      "Chosen word:  woven\n",
      "Chosen word:  lumen\n",
      "Chosen word:  hymen\n",
      "Game won in 5 turns\n",
      "Target word:  blend\n",
      "Chosen word:  raise\n",
      "Chosen word:  tenet\n",
      "Chosen word:  woven\n",
      "Chosen word:  blend\n",
      "Game won in 4 turns\n",
      "Target word:  lease\n",
      "Chosen word:  raise\n",
      "Chosen word:  cease\n",
      "Chosen word:  tease\n",
      "Chosen word:  lease\n",
      "Game won in 4 turns\n",
      "Target word:  drier\n",
      "Chosen word:  raise\n",
      "Chosen word:  fried\n",
      "Chosen word:  drier\n",
      "Game won in 3 turns\n",
      "Target word:  tawny\n",
      "Chosen word:  raise\n",
      "Chosen word:  tangy\n",
      "Chosen word:  tawny\n",
      "Game won in 3 turns\n",
      "Target word:  enema\n",
      "Chosen word:  raise\n",
      "Chosen word:  cleat\n",
      "Chosen word:  amend\n",
      "Chosen word:  enema\n",
      "Game won in 4 turns\n",
      "Target word:  rusty\n",
      "Chosen word:  raise\n",
      "Chosen word:  rusty\n",
      "Game won in 2 turns\n",
      "Target word:  beret\n",
      "Chosen word:  raise\n",
      "Chosen word:  deter\n",
      "Chosen word:  beret\n",
      "Game won in 3 turns\n",
      "Target word:  quoth\n",
      "Chosen word:  raise\n",
      "Chosen word:  mulch\n",
      "Chosen word:  quoth\n",
      "Game won in 3 turns\n",
      "Target word:  copse\n",
      "Chosen word:  raise\n",
      "Chosen word:  loose\n",
      "Chosen word:  house\n",
      "Chosen word:  copse\n",
      "Game won in 4 turns\n",
      "Target word:  sauce\n",
      "Chosen word:  raise\n",
      "Chosen word:  caste\n",
      "Chosen word:  sauce\n",
      "Game won in 3 turns\n",
      "Target word:  nasal\n",
      "Chosen word:  raise\n",
      "Chosen word:  salon\n",
      "Chosen word:  nasal\n",
      "Game won in 3 turns\n",
      "Target word:  basal\n",
      "Chosen word:  raise\n",
      "Chosen word:  salon\n",
      "Chosen word:  basal\n",
      "Game won in 3 turns\n",
      "Target word:  roomy\n",
      "Chosen word:  raise\n",
      "Chosen word:  ruddy\n",
      "Chosen word:  roomy\n",
      "Game won in 3 turns\n",
      "Target word:  large\n",
      "Chosen word:  raise\n",
      "Chosen word:  large\n",
      "Game won in 2 turns\n",
      "Target word:  brown\n",
      "Chosen word:  raise\n",
      "Chosen word:  court\n",
      "Chosen word:  droop\n",
      "Chosen word:  growl\n",
      "Chosen word:  brown\n",
      "Game won in 5 turns\n",
      "Target word:  shock\n",
      "Chosen word:  raise\n",
      "Chosen word:  stunk\n",
      "Chosen word:  shook\n",
      "Chosen word:  shock\n",
      "Game won in 4 turns\n",
      "Target word:  unfit\n",
      "Chosen word:  raise\n",
      "Chosen word:  pilot\n",
      "Chosen word:  unfit\n",
      "Game won in 3 turns\n",
      "Target word:  rebar\n",
      "Chosen word:  raise\n",
      "Chosen word:  relay\n",
      "Chosen word:  rebar\n",
      "Game won in 3 turns\n",
      "Target word:  lunch\n",
      "Chosen word:  raise\n",
      "Chosen word:  mulch\n",
      "Chosen word:  lunch\n",
      "Game won in 3 turns\n",
      "Target word:  azure\n",
      "Chosen word:  raise\n",
      "Chosen word:  grace\n",
      "Chosen word:  adore\n",
      "Chosen word:  azure\n",
      "Game won in 4 turns\n",
      "Target word:  sassy\n",
      "Chosen word:  raise\n",
      "Chosen word:  sassy\n",
      "Game won in 2 turns\n",
      "Target word:  dowel\n",
      "Chosen word:  raise\n",
      "Chosen word:  tenet\n",
      "Chosen word:  dowel\n",
      "Game won in 3 turns\n",
      "Target word:  suite\n",
      "Chosen word:  raise\n",
      "Chosen word:  spine\n",
      "Chosen word:  slime\n",
      "Chosen word:  suite\n",
      "Game won in 4 turns\n",
      "Target word:  error\n",
      "Chosen word:  raise\n",
      "Chosen word:  deter\n",
      "Chosen word:  cower\n",
      "Chosen word:  error\n",
      "Game won in 4 turns\n"
     ]
    }
   ],
   "source": [
    "turns_history = []\n",
    "for i in range(30):\n",
    "    target_word = np.random.choice(lexicon.word)\n",
    "    print('Target word: ',target_word)\n",
    "    turns = play_auto_game(target_word,lexicon)\n",
    "    turns_history.append(turns)\n",
    "    \n"
   ]
  },
  {
   "cell_type": "code",
   "execution_count": 93,
   "id": "rising-symbol",
   "metadata": {},
   "outputs": [
    {
     "data": {
      "text/plain": [
       "3.466666666666667"
      ]
     },
     "execution_count": 93,
     "metadata": {},
     "output_type": "execute_result"
    },
    {
     "data": {
      "image/png": "[encoded data removed]",
      "text/plain": [
       "<Figure size 432x288 with 1 Axes>"
      ]
     },
     "metadata": {
      "needs_background": "light"
     },
     "output_type": "display_data"
    }
   ],
   "source": [
    "plt.hist(turns_history)\n",
    "np.mean(turns_history)"
   ]
  },
  {
   "cell_type": "code",
   "execution_count": 55,
   "id": "upset-crowd",
   "metadata": {},
   "outputs": [
    {
     "data": {
      "text/plain": [
       "{'green_mask': array([ True,  True, False, False,  True]),\n",
       " 'yellow_mask': array([False, False,  True, False, False]),\n",
       " 'grey_mask': array([False, False, False,  True, False]),\n",
       " 'green_letters': array(['d', 'o', 'y'], dtype='<U1'),\n",
       " 'yellow_letters': array(['d'], dtype='<U1'),\n",
       " 'grey_letters': array(['g'], dtype='<U1')}"
      ]
     },
     "execution_count": 55,
     "metadata": {},
     "output_type": "execute_result"
    }
   ],
   "source": [
    "# does not work here 'd' should be yellow\n",
    "compare_words('dodgy','dowdy')\n",
    "\n"
   ]
  },
  {
   "cell_type": "code",
   "execution_count": null,
   "id": "indie-cache",
   "metadata": {},
   "outputs": [],
   "source": []
  }
 ],
 "metadata": {
  "kernelspec": {
   "display_name": "Python 3",
   "language": "python",
   "name": "python3"
  }
 },
 "nbformat": 4,
 "nbformat_minor": 5
}
